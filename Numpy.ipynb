{
 "cells": [
  {
   "cell_type": "code",
   "execution_count": 1,
   "id": "d2ff54d1",
   "metadata": {},
   "outputs": [],
   "source": [
    "import numpy as np"
   ]
  },
  {
   "cell_type": "markdown",
   "id": "055bf989",
   "metadata": {},
   "source": [
    "# Creating numpy arrays from python lists"
   ]
  },
  {
   "cell_type": "code",
   "execution_count": 2,
   "id": "b151a57f",
   "metadata": {},
   "outputs": [
    {
     "data": {
      "text/plain": [
       "array([1, 2, 3, 4])"
      ]
     },
     "execution_count": 2,
     "metadata": {},
     "output_type": "execute_result"
    }
   ],
   "source": [
    "np.array([1,2,3,4])"
   ]
  },
  {
   "cell_type": "code",
   "execution_count": 4,
   "id": "b0ba64af",
   "metadata": {},
   "outputs": [],
   "source": [
    "a1 = np.array([1,2,3,4])"
   ]
  },
  {
   "cell_type": "code",
   "execution_count": 5,
   "id": "7b815013",
   "metadata": {},
   "outputs": [
    {
     "data": {
      "text/plain": [
       "numpy.ndarray"
      ]
     },
     "execution_count": 5,
     "metadata": {},
     "output_type": "execute_result"
    }
   ],
   "source": [
    "type(a1)"
   ]
  },
  {
   "cell_type": "code",
   "execution_count": 8,
   "id": "cc6ca382",
   "metadata": {},
   "outputs": [],
   "source": [
    "a2 = np.array([[1,2,3],\n",
    "               [4,5,6]]) # numpy.ndarray là một kiểu dữ liệu cụ thể trong thư viện NumPy. Nó là một lớp đối tượng trong \n",
    "                         #NumPy được sử dụng để biểu diễn mảng nhiều chiều. Mảng NumPy (numpy.ndarray"
   ]
  },
  {
   "cell_type": "code",
   "execution_count": 9,
   "id": "770293d6",
   "metadata": {},
   "outputs": [
    {
     "data": {
      "text/plain": [
       "numpy.ndarray"
      ]
     },
     "execution_count": 9,
     "metadata": {},
     "output_type": "execute_result"
    }
   ],
   "source": [
    "type(a2)"
   ]
  },
  {
   "cell_type": "code",
   "execution_count": 10,
   "id": "1e731a66",
   "metadata": {},
   "outputs": [
    {
     "data": {
      "text/plain": [
       "(2, 3)"
      ]
     },
     "execution_count": 10,
     "metadata": {},
     "output_type": "execute_result"
    }
   ],
   "source": [
    "a2.shape # trả về mảng có bn cột và dòng, có 2 dòng 3 cột\n"
   ]
  },
  {
   "cell_type": "code",
   "execution_count": 11,
   "id": "40426272",
   "metadata": {},
   "outputs": [
    {
     "data": {
      "text/plain": [
       "2"
      ]
     },
     "execution_count": 11,
     "metadata": {},
     "output_type": "execute_result"
    }
   ],
   "source": [
    "a2.ndim # ndim là một thuộc tính của đối tượng numpy.ndarray và được sử dụng để lấy số chiều của mảng."
   ]
  },
  {
   "cell_type": "code",
   "execution_count": 12,
   "id": "c66e5836",
   "metadata": {},
   "outputs": [
    {
     "data": {
      "text/plain": [
       "dtype('int32')"
      ]
     },
     "execution_count": 12,
     "metadata": {},
     "output_type": "execute_result"
    }
   ],
   "source": [
    "a2.dtype # dtype (data type) là một thuộc tính của đối tượng numpy.ndarray và được sử dụng để lấy kiểu dữ liệu của các phần tử trong mảng."
   ]
  },
  {
   "cell_type": "code",
   "execution_count": 13,
   "id": "671c7f8e",
   "metadata": {},
   "outputs": [
    {
     "data": {
      "text/plain": [
       "6"
      ]
     },
     "execution_count": 13,
     "metadata": {},
     "output_type": "execute_result"
    }
   ],
   "source": [
    "a2.size #  được sử dụng để lấy kích thước tổng cộng của mảng, tức là số lượng phần tử trong mảng."
   ]
  },
  {
   "cell_type": "markdown",
   "id": "2127770b",
   "metadata": {},
   "source": [
    "# Creating numpy arrays from scratch"
   ]
  },
  {
   "cell_type": "markdown",
   "id": "59fa04a0",
   "metadata": {},
   "source": [
    "### zeros, ones, full, arange, linspace"
   ]
  },
  {
   "cell_type": "code",
   "execution_count": 14,
   "id": "6770a393",
   "metadata": {},
   "outputs": [
    {
     "data": {
      "text/plain": [
       "array([[0., 0., 0., 0.],\n",
       "       [0., 0., 0., 0.]])"
      ]
     },
     "execution_count": 14,
     "metadata": {},
     "output_type": "execute_result"
    }
   ],
   "source": [
    "np.zeros([2,4]) # tạo ra một mảng NumPy với tất cả các phần tử được khởi tạo là số 0"
   ]
  },
  {
   "cell_type": "code",
   "execution_count": 18,
   "id": "f361f571",
   "metadata": {},
   "outputs": [
    {
     "data": {
      "text/plain": [
       "array([[0, 0, 0, 0],\n",
       "       [0, 0, 0, 0]])"
      ]
     },
     "execution_count": 18,
     "metadata": {},
     "output_type": "execute_result"
    }
   ],
   "source": [
    "np.zeros([2,4], dtype = int) "
   ]
  },
  {
   "cell_type": "code",
   "execution_count": 19,
   "id": "2e8df23a",
   "metadata": {},
   "outputs": [
    {
     "data": {
      "text/plain": [
       "array([[1., 1., 1., 1., 1.],\n",
       "       [1., 1., 1., 1., 1.],\n",
       "       [1., 1., 1., 1., 1.]])"
      ]
     },
     "execution_count": 19,
     "metadata": {},
     "output_type": "execute_result"
    }
   ],
   "source": [
    "np.ones((3,5), dtype = float) # tạo ra một mảng chứa các phần tử có giá trị 1.0. Tuy nhiên, khi in kết quả, các số thực có thể được hiển thị mà không hiển thị phần thập phân không cần thiết."
   ]
  },
  {
   "cell_type": "code",
   "execution_count": 21,
   "id": "8d5d0350",
   "metadata": {},
   "outputs": [
    {
     "data": {
      "text/plain": [
       "array([ 0,  2,  4,  6,  8, 10, 12, 14, 16, 18])"
      ]
     },
     "execution_count": 21,
     "metadata": {},
     "output_type": "execute_result"
    }
   ],
   "source": [
    "np.arange(0,20, 2) #  chạy từ 0 - 20 (ko bao gồm 20) khoảng cách là 2 giữa các phần tử"
   ]
  },
  {
   "cell_type": "code",
   "execution_count": 4,
   "id": "9e2cf011",
   "metadata": {},
   "outputs": [
    {
     "data": {
      "text/plain": [
       "array([[6.9, 6.9, 6.9, 6.9, 6.9],\n",
       "       [6.9, 6.9, 6.9, 6.9, 6.9],\n",
       "       [6.9, 6.9, 6.9, 6.9, 6.9]])"
      ]
     },
     "execution_count": 4,
     "metadata": {},
     "output_type": "execute_result"
    }
   ],
   "source": [
    "np.full((3,5), 6.9) #  tham số đầu tiên của hàm np.full() là shape, là một tuple hoặc list chứa kích thước của mảng đầu ra mà bạn muốn tạo."
   ]
  },
  {
   "cell_type": "code",
   "execution_count": 6,
   "id": "1718c5b4",
   "metadata": {},
   "outputs": [
    {
     "data": {
      "text/plain": [
       "array([0.  , 0.25, 0.5 , 0.75, 1.  ])"
      ]
     },
     "execution_count": 6,
     "metadata": {},
     "output_type": "execute_result"
    }
   ],
   "source": [
    "# create an array of five values evenly spaced between 0 and 1\n",
    "np.linspace(0,1, 5)  # được sử dụng để tạo ra một mảng các giá trị có giá trị đều nhau trong một khoảng giá trị cho trước.\n",
    "                     #  tạo một mảng 1D chứa 5 phần tử, bắt đầu từ 0 và kết thúc bởi 1, với các phần tử được phân bố đều trong khoảng đó."
   ]
  },
  {
   "cell_type": "markdown",
   "id": "e7bcb8c0",
   "metadata": {},
   "source": [
    "## Random\n"
   ]
  },
  {
   "cell_type": "code",
   "execution_count": 7,
   "id": "25af179d",
   "metadata": {
    "scrolled": true
   },
   "outputs": [
    {
     "data": {
      "text/plain": [
       "array([[0.29033747, 0.95266667, 0.3611485 , 0.43064237],\n",
       "       [0.50198506, 0.04270224, 0.88194937, 0.67499838],\n",
       "       [0.86297237, 0.09424136, 0.51586024, 0.03862805],\n",
       "       [0.18928065, 0.29877569, 0.59106398, 0.51710711]])"
      ]
     },
     "execution_count": 7,
     "metadata": {},
     "output_type": "execute_result"
    }
   ],
   "source": [
    "np.random.random((4,4))"
   ]
  },
  {
   "cell_type": "code",
   "execution_count": 15,
   "id": "dab70db7",
   "metadata": {},
   "outputs": [
    {
     "data": {
      "text/plain": [
       "array([[0.99529957, 0.58185033, 0.41436859, 0.4746975 ],\n",
       "       [0.6235101 , 0.33800761, 0.67475232, 0.31720174],\n",
       "       [0.77834548, 0.94957105, 0.66252687, 0.01357164],\n",
       "       [0.6228461 , 0.67365963, 0.971945  , 0.87819347]])"
      ]
     },
     "execution_count": 15,
     "metadata": {},
     "output_type": "execute_result"
    }
   ],
   "source": [
    "np.random.rand(4,4) # tương tự như random nhưng không cần shape() mà truyền trực tiếp luôn"
   ]
  },
  {
   "cell_type": "code",
   "execution_count": 5,
   "id": "70c90b43",
   "metadata": {},
   "outputs": [
    {
     "data": {
      "text/plain": [
       "array([[0.5488135 , 0.71518937, 0.60276338, 0.54488318],\n",
       "       [0.4236548 , 0.64589411, 0.43758721, 0.891773  ],\n",
       "       [0.96366276, 0.38344152, 0.79172504, 0.52889492],\n",
       "       [0.56804456, 0.92559664, 0.07103606, 0.0871293 ]])"
      ]
     },
     "execution_count": 5,
     "metadata": {},
     "output_type": "execute_result"
    }
   ],
   "source": [
    "# seed for reproducibility\n",
    "np.random.seed(0)  # cho phép ta khởi tạo một chuỗi số ngẫu nhiên tương tự nhau mỗi lần thực thi chương trình.\n",
    "np.random.random((4,4))"
   ]
  },
  {
   "cell_type": "code",
   "execution_count": 13,
   "id": "d34d23ab",
   "metadata": {},
   "outputs": [
    {
     "data": {
      "text/plain": [
       "array([[-0.74216502,  2.26975462, -1.45436567],\n",
       "       [ 0.04575852, -0.18718385,  1.53277921],\n",
       "       [ 1.46935877,  0.15494743,  0.37816252]])"
      ]
     },
     "execution_count": 13,
     "metadata": {},
     "output_type": "execute_result"
    }
   ],
   "source": [
    "np.random.normal(0,1, (3,3)) # tạo ra một mảng 2D có kích thước (3, 3) với các giá trị được rút ra từ phân phối chuẩn (normal distribution) có trung bình 0 và độ lệch chuẩn 1."
   ]
  },
  {
   "cell_type": "code",
   "execution_count": 14,
   "id": "cf1ec4a8",
   "metadata": {},
   "outputs": [
    {
     "data": {
      "text/plain": [
       "array([[8, 1, 1, 7, 9],\n",
       "       [9, 3, 6, 7, 2],\n",
       "       [0, 3, 5, 9, 4],\n",
       "       [4, 6, 4, 4, 3]])"
      ]
     },
     "execution_count": 14,
     "metadata": {},
     "output_type": "execute_result"
    }
   ],
   "source": [
    "np.random.randint(0,10, (4,5))"
   ]
  },
  {
   "cell_type": "markdown",
   "id": "be4240ef",
   "metadata": {},
   "source": [
    "## Array Indexing & Slicing\n"
   ]
  },
  {
   "cell_type": "markdown",
   "id": "ff8d20b9",
   "metadata": {},
   "source": [
    "## one-dimensional subarray"
   ]
  },
  {
   "cell_type": "code",
   "execution_count": 4,
   "id": "a03c7845",
   "metadata": {},
   "outputs": [],
   "source": [
    "x1 = np.random.randint(20, size = 6)"
   ]
  },
  {
   "cell_type": "code",
   "execution_count": 7,
   "id": "c4417bb6",
   "metadata": {},
   "outputs": [
    {
     "data": {
      "text/plain": [
       "array([10,  6,  5, 11,  4, 19])"
      ]
     },
     "execution_count": 7,
     "metadata": {},
     "output_type": "execute_result"
    }
   ],
   "source": [
    "x1"
   ]
  },
  {
   "cell_type": "code",
   "execution_count": 10,
   "id": "b627744b",
   "metadata": {},
   "outputs": [
    {
     "data": {
      "text/plain": [
       "(4, 10, 19)"
      ]
     },
     "execution_count": 10,
     "metadata": {},
     "output_type": "execute_result"
    }
   ],
   "source": [
    "x1[4], x1[0], x1[-1]  #return theo vị trí (-1) là vị trí cuối cùng"
   ]
  },
  {
   "cell_type": "markdown",
   "id": "bb388157",
   "metadata": {},
   "source": [
    "## Multi - dimensional array"
   ]
  },
  {
   "cell_type": "code",
   "execution_count": 13,
   "id": "383f292c",
   "metadata": {},
   "outputs": [],
   "source": [
    "x2 = np.random.randint(10, size = (3,4))"
   ]
  },
  {
   "cell_type": "code",
   "execution_count": 14,
   "id": "f7600dc5",
   "metadata": {},
   "outputs": [
    {
     "data": {
      "text/plain": [
       "array([[7, 0, 1, 9],\n",
       "       [9, 0, 4, 7],\n",
       "       [3, 2, 7, 2]])"
      ]
     },
     "execution_count": 14,
     "metadata": {},
     "output_type": "execute_result"
    }
   ],
   "source": [
    "x2"
   ]
  },
  {
   "cell_type": "code",
   "execution_count": 15,
   "id": "ca83a710",
   "metadata": {},
   "outputs": [
    {
     "data": {
      "text/plain": [
       "4"
      ]
     },
     "execution_count": 15,
     "metadata": {},
     "output_type": "execute_result"
    }
   ],
   "source": [
    "x2[1,2] # truy cập và trả về giá trị của phần tử tại vị trí hàng thứ 1 và cột thứ 2 \n",
    "        #  Lưu ý rằng chỉ số hàng và cột trong Python được bắt đầu từ 0."
   ]
  },
  {
   "cell_type": "code",
   "execution_count": 16,
   "id": "e552b88b",
   "metadata": {},
   "outputs": [],
   "source": [
    "x2[1,2] = 6  # cập nhật hàng 1 cột 2 thành số 6"
   ]
  },
  {
   "cell_type": "code",
   "execution_count": 17,
   "id": "2951ce41",
   "metadata": {},
   "outputs": [
    {
     "data": {
      "text/plain": [
       "array([[7, 0, 1, 9],\n",
       "       [9, 0, 6, 7],\n",
       "       [3, 2, 7, 2]])"
      ]
     },
     "execution_count": 17,
     "metadata": {},
     "output_type": "execute_result"
    }
   ],
   "source": [
    "x2"
   ]
  },
  {
   "cell_type": "markdown",
   "id": "c896bcc4",
   "metadata": {},
   "source": [
    "## Slicing\n",
    "## x[start : stop : step]"
   ]
  },
  {
   "cell_type": "code",
   "execution_count": 16,
   "id": "e9920b8c",
   "metadata": {},
   "outputs": [
    {
     "data": {
      "text/plain": [
       "array([10,  6,  5, 11,  4, 19])"
      ]
     },
     "execution_count": 16,
     "metadata": {},
     "output_type": "execute_result"
    }
   ],
   "source": [
    "x1"
   ]
  },
  {
   "cell_type": "code",
   "execution_count": 18,
   "id": "8a940d65",
   "metadata": {},
   "outputs": [
    {
     "data": {
      "text/plain": [
       "array([10,  6,  5])"
      ]
     },
     "execution_count": 18,
     "metadata": {},
     "output_type": "execute_result"
    }
   ],
   "source": [
    "x1[0:3]   # \"slicing\" là một cách để truy cập và chọn một phần của mảng (array) một chiều hoặc nhiều chiều bằng cách sử dụng các chỉ số (index) và các khoảng giá trị (range)."
   ]
  },
  {
   "cell_type": "code",
   "execution_count": 19,
   "id": "7391ceec",
   "metadata": {},
   "outputs": [
    {
     "data": {
      "text/plain": [
       "array([10,  5,  4])"
      ]
     },
     "execution_count": 19,
     "metadata": {},
     "output_type": "execute_result"
    }
   ],
   "source": [
    "# mỗi 2 step\n",
    "x1[::2]"
   ]
  },
  {
   "cell_type": "code",
   "execution_count": 20,
   "id": "7c5bcc76",
   "metadata": {},
   "outputs": [
    {
     "data": {
      "text/plain": [
       "array([[8, 6, 0],\n",
       "       [6, 7, 6]])"
      ]
     },
     "execution_count": 20,
     "metadata": {},
     "output_type": "execute_result"
    }
   ],
   "source": [
    "# two rows, three columns\n",
    "x2[:2,:3]"
   ]
  },
  {
   "cell_type": "code",
   "execution_count": 21,
   "id": "0fcc9485",
   "metadata": {},
   "outputs": [
    {
     "data": {
      "text/plain": [
       "array([[8, 6, 0, 7],\n",
       "       [6, 7, 6, 4],\n",
       "       [7, 8, 5, 5]])"
      ]
     },
     "execution_count": 21,
     "metadata": {},
     "output_type": "execute_result"
    }
   ],
   "source": [
    "x2"
   ]
  },
  {
   "cell_type": "code",
   "execution_count": 22,
   "id": "7c2cc9e9",
   "metadata": {},
   "outputs": [
    {
     "data": {
      "text/plain": [
       "array([[8, 6],\n",
       "       [6, 7],\n",
       "       [7, 8]])"
      ]
     },
     "execution_count": 22,
     "metadata": {},
     "output_type": "execute_result"
    }
   ],
   "source": [
    "x2[:, :2]"
   ]
  },
  {
   "cell_type": "markdown",
   "id": "b820625f",
   "metadata": {},
   "source": [
    "## Reshaping of Array & Transpose"
   ]
  },
  {
   "cell_type": "code",
   "execution_count": 24,
   "id": "8c58ca5e",
   "metadata": {},
   "outputs": [
    {
     "data": {
      "text/plain": [
       "(9,)"
      ]
     },
     "execution_count": 24,
     "metadata": {},
     "output_type": "execute_result"
    }
   ],
   "source": [
    "grid = np.arange(1,10)\n",
    "grid.shape  #có thể kiểm tra kích thước của mảng bằng cách sử dụng thuộc tính shape, "
   ]
  },
  {
   "cell_type": "code",
   "execution_count": 25,
   "id": "173d6005",
   "metadata": {
    "scrolled": true
   },
   "outputs": [
    {
     "data": {
      "text/plain": [
       "array([[1, 2, 3],\n",
       "       [4, 5, 6],\n",
       "       [7, 8, 9]])"
      ]
     },
     "execution_count": 25,
     "metadata": {},
     "output_type": "execute_result"
    }
   ],
   "source": [
    "grid.reshape((3,3)) # hàm reshape được sử dụng để thay đổi kích thước của một\n",
    "                     #mảng (array) thành một hình dạng (shape) khác mà vẫn giữ nguyên số phần tử của mảng ban đầu. \n",
    "                 "
   ]
  },
  {
   "cell_type": "code",
   "execution_count": 26,
   "id": "eab707cc",
   "metadata": {},
   "outputs": [],
   "source": [
    "x=np.array([1,2,3])"
   ]
  },
  {
   "cell_type": "code",
   "execution_count": 27,
   "id": "a96c30db",
   "metadata": {},
   "outputs": [
    {
     "data": {
      "text/plain": [
       "(3,)"
      ]
     },
     "execution_count": 27,
     "metadata": {},
     "output_type": "execute_result"
    }
   ],
   "source": [
    "x.shape  # 3 dòng 1 cột"
   ]
  },
  {
   "cell_type": "code",
   "execution_count": 29,
   "id": "a60153ac",
   "metadata": {},
   "outputs": [
    {
     "data": {
      "text/plain": [
       "(1, 3)"
      ]
     },
     "execution_count": 29,
     "metadata": {},
     "output_type": "execute_result"
    }
   ],
   "source": [
    "x.reshape((1,3)).shape  "
   ]
  },
  {
   "cell_type": "code",
   "execution_count": 31,
   "id": "b69d6ff3",
   "metadata": {},
   "outputs": [],
   "source": [
    "x = np.array([[1.,2.], [3.,4.]])"
   ]
  },
  {
   "cell_type": "code",
   "execution_count": 32,
   "id": "857eae6e",
   "metadata": {},
   "outputs": [
    {
     "data": {
      "text/plain": [
       "array([[1., 2.],\n",
       "       [3., 4.]])"
      ]
     },
     "execution_count": 32,
     "metadata": {},
     "output_type": "execute_result"
    }
   ],
   "source": [
    "x"
   ]
  },
  {
   "cell_type": "code",
   "execution_count": 33,
   "id": "d90e5183",
   "metadata": {},
   "outputs": [
    {
     "data": {
      "text/plain": [
       "array([[1., 3.],\n",
       "       [2., 4.]])"
      ]
     },
     "execution_count": 33,
     "metadata": {},
     "output_type": "execute_result"
    }
   ],
   "source": [
    "x.T # Transpose: chuyển cột thành hàng, hàng thành cột"
   ]
  },
  {
   "cell_type": "markdown",
   "id": "d5129fbb",
   "metadata": {},
   "source": [
    "## Array concatenation and splitting"
   ]
  },
  {
   "cell_type": "code",
   "execution_count": 34,
   "id": "73537227",
   "metadata": {},
   "outputs": [],
   "source": [
    "x = np.array([1,2,3])\n",
    "y = np.array([3,2,1])"
   ]
  },
  {
   "cell_type": "code",
   "execution_count": 35,
   "id": "629977d7",
   "metadata": {},
   "outputs": [
    {
     "data": {
      "text/plain": [
       "array([1, 2, 3, 3, 2, 1])"
      ]
     },
     "execution_count": 35,
     "metadata": {},
     "output_type": "execute_result"
    }
   ],
   "source": [
    "np.concatenate((x,y))  #hàm concatenate được sử dụng để nối các mảng (array) "
   ]
  },
  {
   "cell_type": "code",
   "execution_count": 36,
   "id": "078da672",
   "metadata": {},
   "outputs": [],
   "source": [
    "grid = np.array([[1,2,3],\n",
    "                [4,5,6]])"
   ]
  },
  {
   "cell_type": "code",
   "execution_count": 37,
   "id": "1afea0fe",
   "metadata": {},
   "outputs": [
    {
     "data": {
      "text/plain": [
       "array([[1, 2, 3],\n",
       "       [4, 5, 6],\n",
       "       [1, 2, 3],\n",
       "       [4, 5, 6]])"
      ]
     },
     "execution_count": 37,
     "metadata": {},
     "output_type": "execute_result"
    }
   ],
   "source": [
    "np.concatenate((grid, grid)) #axis = 0 by default"
   ]
  },
  {
   "cell_type": "code",
   "execution_count": 39,
   "id": "a06a60f1",
   "metadata": {},
   "outputs": [
    {
     "data": {
      "text/plain": [
       "array([[1, 2, 3, 1, 2, 3],\n",
       "       [4, 5, 6, 4, 5, 6]])"
      ]
     },
     "execution_count": 39,
     "metadata": {},
     "output_type": "execute_result"
    }
   ],
   "source": [
    "np.concatenate((grid, grid), axis = 1)"
   ]
  },
  {
   "cell_type": "code",
   "execution_count": 41,
   "id": "8edf9158",
   "metadata": {},
   "outputs": [],
   "source": [
    "#vstack\n",
    "x = np.array([1,2,3])\n",
    "grid = np.array([[9,8,7],\n",
    "                [6,5,4]])"
   ]
  },
  {
   "cell_type": "code",
   "execution_count": 42,
   "id": "5fa45257",
   "metadata": {},
   "outputs": [
    {
     "data": {
      "text/plain": [
       "array([[1, 2, 3],\n",
       "       [9, 8, 7],\n",
       "       [6, 5, 4]])"
      ]
     },
     "execution_count": 42,
     "metadata": {},
     "output_type": "execute_result"
    }
   ],
   "source": [
    "np.vstack((x, grid))   # sử dụng để sắp xếp các mảng theo chiều dọc. Nó nối các mảng đã cho theo chiều dọc, tạo ra một mảng mới."
   ]
  },
  {
   "cell_type": "code",
   "execution_count": 43,
   "id": "4d1dd18c",
   "metadata": {},
   "outputs": [
    {
     "data": {
      "text/plain": [
       "array([[99,  9,  8,  7],\n",
       "       [99,  6,  5,  4]])"
      ]
     },
     "execution_count": 43,
     "metadata": {},
     "output_type": "execute_result"
    }
   ],
   "source": [
    "# Horizontally stack the arrays: hstack\n",
    "y = np.array([[99],\n",
    "             [99]])\n",
    "np.hstack((y, grid))"
   ]
  },
  {
   "cell_type": "markdown",
   "id": "d3ef834f",
   "metadata": {},
   "source": [
    "## splitting of arrays"
   ]
  },
  {
   "cell_type": "code",
   "execution_count": 45,
   "id": "3a2694a3",
   "metadata": {},
   "outputs": [],
   "source": [
    "x = np.array([1,2,3,99,69,3,2,1])"
   ]
  },
  {
   "cell_type": "code",
   "execution_count": 48,
   "id": "8ba8b063",
   "metadata": {},
   "outputs": [],
   "source": [
    "x1, x2, x3 = np.split(x, [3,5])  # hàm np.split()trong NumPy được sử dụng để phân tách một mảng thành các phần tử con (mảng con)."
   ]
  },
  {
   "cell_type": "code",
   "execution_count": 49,
   "id": "09d32255",
   "metadata": {},
   "outputs": [
    {
     "data": {
      "text/plain": [
       "array([1, 2, 3])"
      ]
     },
     "execution_count": 49,
     "metadata": {},
     "output_type": "execute_result"
    }
   ],
   "source": [
    "x1"
   ]
  },
  {
   "cell_type": "code",
   "execution_count": 50,
   "id": "acb3b7e5",
   "metadata": {},
   "outputs": [
    {
     "data": {
      "text/plain": [
       "array([99, 69])"
      ]
     },
     "execution_count": 50,
     "metadata": {},
     "output_type": "execute_result"
    }
   ],
   "source": [
    "x2"
   ]
  },
  {
   "cell_type": "code",
   "execution_count": 51,
   "id": "e9cf034a",
   "metadata": {},
   "outputs": [
    {
     "data": {
      "text/plain": [
       "array([3, 2, 1])"
      ]
     },
     "execution_count": 51,
     "metadata": {},
     "output_type": "execute_result"
    }
   ],
   "source": [
    "x3"
   ]
  },
  {
   "cell_type": "markdown",
   "id": "57fb9162",
   "metadata": {},
   "source": [
    "## Broadcasting and vectorized operations"
   ]
  },
  {
   "cell_type": "code",
   "execution_count": 2,
   "id": "7505d101",
   "metadata": {},
   "outputs": [],
   "source": [
    "a = np.arange(3)  # được sử dụng để tạo mảng 1 chiều với các giá trị từ một giá trị bắt đầu cho một giá trị kết thúc với một bước nhảy cố định."
   ]
  },
  {
   "cell_type": "code",
   "execution_count": 3,
   "id": "e2b87bc1",
   "metadata": {},
   "outputs": [
    {
     "data": {
      "text/plain": [
       "array([0, 1, 2])"
      ]
     },
     "execution_count": 3,
     "metadata": {},
     "output_type": "execute_result"
    }
   ],
   "source": [
    "a"
   ]
  },
  {
   "cell_type": "code",
   "execution_count": 4,
   "id": "f7706183",
   "metadata": {},
   "outputs": [
    {
     "data": {
      "text/plain": [
       "array([5, 6, 7])"
      ]
     },
     "execution_count": 4,
     "metadata": {},
     "output_type": "execute_result"
    }
   ],
   "source": [
    "a + 5 #Broadcasting  Broadcasting là một tính năng trong NumPy (một thư viện phổ biến cho tính toán số học trong Python) cho phép thực hiện các phép toán trên các mảng có hình dạng khác nhau mà không cần phải thực hiện sao chép dữ liệu."
   ]
  },
  {
   "cell_type": "code",
   "execution_count": 5,
   "id": "0b5ecb3d",
   "metadata": {},
   "outputs": [],
   "source": [
    "b =np.ones((3,3))"
   ]
  },
  {
   "cell_type": "code",
   "execution_count": 6,
   "id": "a09b429f",
   "metadata": {},
   "outputs": [
    {
     "data": {
      "text/plain": [
       "array([[1., 1., 1.],\n",
       "       [1., 1., 1.],\n",
       "       [1., 1., 1.]])"
      ]
     },
     "execution_count": 6,
     "metadata": {},
     "output_type": "execute_result"
    }
   ],
   "source": [
    "b"
   ]
  },
  {
   "cell_type": "code",
   "execution_count": 8,
   "id": "0a1c2ca0",
   "metadata": {},
   "outputs": [
    {
     "data": {
      "text/plain": [
       "((3,), (3, 3))"
      ]
     },
     "execution_count": 8,
     "metadata": {},
     "output_type": "execute_result"
    }
   ],
   "source": [
    "a.shape, b.shape"
   ]
  },
  {
   "cell_type": "code",
   "execution_count": 9,
   "id": "69e5f826",
   "metadata": {},
   "outputs": [
    {
     "data": {
      "text/plain": [
       "array([[1., 2., 3.],\n",
       "       [1., 2., 3.],\n",
       "       [1., 2., 3.]])"
      ]
     },
     "execution_count": 9,
     "metadata": {},
     "output_type": "execute_result"
    }
   ],
   "source": [
    "a + b"
   ]
  },
  {
   "cell_type": "code",
   "execution_count": 10,
   "id": "dc65fc68",
   "metadata": {},
   "outputs": [
    {
     "data": {
      "text/plain": [
       "array([[0., 1., 2.],\n",
       "       [0., 1., 2.],\n",
       "       [0., 1., 2.]])"
      ]
     },
     "execution_count": 10,
     "metadata": {},
     "output_type": "execute_result"
    }
   ],
   "source": [
    "a * b"
   ]
  },
  {
   "cell_type": "code",
   "execution_count": 11,
   "id": "d10dd24c",
   "metadata": {},
   "outputs": [],
   "source": [
    "c = np.arange(3).reshape((3,1)) # Toán tử reshape trong NumPy được sử dụng để thay đổi hình dạng của một mảng mà không thay đổi dữ liệu trong mảng đó."
   ]
  },
  {
   "cell_type": "code",
   "execution_count": 12,
   "id": "72d7099b",
   "metadata": {},
   "outputs": [
    {
     "data": {
      "text/plain": [
       "array([[0],\n",
       "       [1],\n",
       "       [2]])"
      ]
     },
     "execution_count": 12,
     "metadata": {},
     "output_type": "execute_result"
    }
   ],
   "source": [
    "c"
   ]
  },
  {
   "cell_type": "code",
   "execution_count": 13,
   "id": "b5e6b4ef",
   "metadata": {},
   "outputs": [
    {
     "data": {
      "text/plain": [
       "array([[0, 1, 2],\n",
       "       [1, 2, 3],\n",
       "       [2, 3, 4]])"
      ]
     },
     "execution_count": 13,
     "metadata": {},
     "output_type": "execute_result"
    }
   ],
   "source": [
    "a+c"
   ]
  },
  {
   "cell_type": "markdown",
   "id": "a7b31e7b",
   "metadata": {},
   "source": [
    "# Manipulating & Comparing Arrays\n"
   ]
  },
  {
   "cell_type": "markdown",
   "id": "a9e84793",
   "metadata": {},
   "source": [
    " \n",
    " ###  Aggregation"
   ]
  },
  {
   "cell_type": "markdown",
   "id": "9adcacf4",
   "metadata": {},
   "source": [
    "Aggregation = performkng the same operation on a number of things "
   ]
  },
  {
   "cell_type": "code",
   "execution_count": 3,
   "id": "ca7a67c9",
   "metadata": {},
   "outputs": [],
   "source": [
    "list_number = [1,2,3]"
   ]
  },
  {
   "cell_type": "code",
   "execution_count": 4,
   "id": "5fec8dc1",
   "metadata": {},
   "outputs": [],
   "source": [
    "ll = np.array(list_number)"
   ]
  },
  {
   "cell_type": "code",
   "execution_count": 5,
   "id": "2435e027",
   "metadata": {},
   "outputs": [
    {
     "data": {
      "text/plain": [
       "array([1, 2, 3])"
      ]
     },
     "execution_count": 5,
     "metadata": {},
     "output_type": "execute_result"
    }
   ],
   "source": [
    "ll"
   ]
  },
  {
   "cell_type": "code",
   "execution_count": 6,
   "id": "21e9dc94",
   "metadata": {},
   "outputs": [
    {
     "data": {
      "text/plain": [
       "6"
      ]
     },
     "execution_count": 6,
     "metadata": {},
     "output_type": "execute_result"
    }
   ],
   "source": [
    "sum(ll) #python sum()"
   ]
  },
  {
   "cell_type": "code",
   "execution_count": 7,
   "id": "b97677e2",
   "metadata": {},
   "outputs": [
    {
     "data": {
      "text/plain": [
       "6"
      ]
     },
     "execution_count": 7,
     "metadata": {},
     "output_type": "execute_result"
    }
   ],
   "source": [
    "np.sum(ll) #Numpy sum()"
   ]
  },
  {
   "cell_type": "code",
   "execution_count": 8,
   "id": "e5080e8b",
   "metadata": {},
   "outputs": [
    {
     "data": {
      "text/plain": [
       "(10000,)"
      ]
     },
     "execution_count": 8,
     "metadata": {},
     "output_type": "execute_result"
    }
   ],
   "source": [
    "# Create a massive Numpy array\n",
    "massive_array = np.random.random(10000)\n",
    "massive_array[:5]  # trả về 5 phần tử đầu tiên của mảng massive_array\n",
    "massive_array.shape"
   ]
  },
  {
   "cell_type": "code",
   "execution_count": 10,
   "id": "b899c7da",
   "metadata": {},
   "outputs": [
    {
     "name": "stdout",
     "output_type": "stream",
     "text": [
      "881 µs ± 7.18 µs per loop (mean ± std. dev. of 7 runs, 1,000 loops each)\n",
      "6.6 µs ± 114 ns per loop (mean ± std. dev. of 7 runs, 100,000 loops each)\n"
     ]
    }
   ],
   "source": [
    "%timeit sum(massive_array) # Câu lệnh %timeitlà một câu lệnh trong Jupyter Notebook và IPython có chức năng đo thời gian thực thi của một dòng mã hoặc một đoạn mã.\n",
    "%timeit np.sum(massive_array) # Numpy is np.sum()"
   ]
  },
  {
   "cell_type": "code",
   "execution_count": 11,
   "id": "d2d63ad2",
   "metadata": {},
   "outputs": [
    {
     "data": {
      "text/plain": [
       "0.49920729958348065"
      ]
     },
     "execution_count": 11,
     "metadata": {},
     "output_type": "execute_result"
    }
   ],
   "source": [
    "np.mean(massive_array) # tính giá trị trung bình của các phần tử trong mass_array"
   ]
  },
  {
   "cell_type": "code",
   "execution_count": 12,
   "id": "836ce068",
   "metadata": {},
   "outputs": [
    {
     "data": {
      "text/plain": [
       "0.999878911477773"
      ]
     },
     "execution_count": 12,
     "metadata": {},
     "output_type": "execute_result"
    }
   ],
   "source": [
    "np.max(massive_array)"
   ]
  },
  {
   "cell_type": "code",
   "execution_count": null,
   "id": "5e60e575",
   "metadata": {},
   "outputs": [],
   "source": []
  }
 ],
 "metadata": {
  "kernelspec": {
   "display_name": "Python 3 (ipykernel)",
   "language": "python",
   "name": "python3"
  },
  "language_info": {
   "codemirror_mode": {
    "name": "ipython",
    "version": 3
   },
   "file_extension": ".py",
   "mimetype": "text/x-python",
   "name": "python",
   "nbconvert_exporter": "python",
   "pygments_lexer": "ipython3",
   "version": "3.10.9"
  }
 },
 "nbformat": 4,
 "nbformat_minor": 5
}
